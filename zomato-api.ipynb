{
 "cells": [
  {
   "cell_type": "code",
   "execution_count": 298,
   "metadata": {},
   "outputs": [],
   "source": [
    "import requests\n",
    "import pandas as pd\n",
    "import numpy as np"
   ]
  },
  {
   "cell_type": "code",
   "execution_count": 336,
   "metadata": {},
   "outputs": [],
   "source": [
    "header={\"X-Zomato-API-Key\":'ed33c256583658b1187ec335b9abc425'}\n",
    "parameters={\"user-key\":'ed33c256583658b1187ec335b9abc425'}\n",
    "response = requests.get('https://developers.zomato.com/api/v2.1/search',headers=header,params=parameters)"
   ]
  },
  {
   "cell_type": "code",
   "execution_count": 337,
   "metadata": {},
   "outputs": [],
   "source": [
    "data = response.json()"
   ]
  },
  {
   "cell_type": "markdown",
   "metadata": {},
   "source": [
    "## Single dictionary Cleaning"
   ]
  },
  {
   "cell_type": "code",
   "execution_count": 338,
   "metadata": {},
   "outputs": [
    {
     "data": {
      "text/plain": [
       "{'R': {'has_menu_status': {'delivery': -1, 'takeaway': -1},\n",
       "  'res_id': 19356617},\n",
       " 'apikey': 'ed33c256583658b1187ec335b9abc425',\n",
       " 'id': '19356617',\n",
       " 'name': '3 Singles Fast Food Cafe',\n",
       " 'url': 'https://www.zomato.com/chiplun-city/3-singles-fast-food-cafe-chiplun-locality?utm_source=api_basic_user&utm_medium=api&utm_campaign=v2.1',\n",
       " 'location': {'address': 'Shop 3, Vastu Siddhi Apartment Ozarwadi, Chiplun Locality, Chiplun City',\n",
       "  'locality': 'Chiplun Locality',\n",
       "  'city': 'Chiplun City',\n",
       "  'city_id': 11900,\n",
       "  'latitude': '17.5246686000',\n",
       "  'longitude': '73.5244691000',\n",
       "  'zipcode': '',\n",
       "  'country_id': 1,\n",
       "  'locality_verbose': 'Chiplun Locality, Chiplun City'},\n",
       " 'switch_to_order_menu': 0,\n",
       " 'cuisines': 'Fast Food',\n",
       " 'timings': '11 AM to 11 PM',\n",
       " 'average_cost_for_two': 200,\n",
       " 'price_range': 1,\n",
       " 'currency': 'Rs.',\n",
       " 'highlights': ['Dinner',\n",
       "  'Cash',\n",
       "  'Takeaway Available',\n",
       "  'Lunch',\n",
       "  'Delivery',\n",
       "  'Indoor Seating',\n",
       "  'Digital Payments Accepted'],\n",
       " 'offers': [],\n",
       " 'opentable_support': 0,\n",
       " 'is_zomato_book_res': 0,\n",
       " 'mezzo_provider': 'OTHER',\n",
       " 'is_book_form_web_view': 0,\n",
       " 'book_form_web_view_url': '',\n",
       " 'book_again_url': '',\n",
       " 'thumb': 'https://b.zmtcdn.com/data/reviews_photos/baf/c43635c3b95542d650caa00900d65baf_1584371334.jpg?impolicy=newcropandfit&cropw=780&croph=780&cropoffsetx=0&cropoffsety=62&cropgravity=NorthWest&fitw=200&fith=200&fittype=ignore',\n",
       " 'user_rating': {'aggregate_rating': 0,\n",
       "  'rating_text': 'Not rated',\n",
       "  'rating_color': 'CBCBCB',\n",
       "  'rating_obj': {'title': {'text': 'NEW'},\n",
       "   'bg_color': {'type': 'grey', 'tint': '400'}},\n",
       "  'votes': 0,\n",
       "  'custom_rating_text': 'NEW',\n",
       "  'custom_rating_text_background': '#89959B',\n",
       "  'rating_tool_tip': 'This restaurant is newly opened. The rating will appear once the restaurant completes 60 days in operation.'},\n",
       " 'all_reviews_count': 3,\n",
       " 'photos_url': 'https://www.zomato.com/chiplun-city/3-singles-fast-food-cafe-chiplun-locality/photos?utm_source=api_basic_user&utm_medium=api&utm_campaign=v2.1#tabtop',\n",
       " 'photo_count': 3,\n",
       " 'photos': [{'photo': {'id': 'u_3NzY5MzgyNDYyO',\n",
       "    'url': 'https://b.zmtcdn.com/data/reviews_photos/baf/c43635c3b95542d650caa00900d65baf_1584371334.jpg',\n",
       "    'thumb_url': 'https://b.zmtcdn.com/data/reviews_photos/baf/c43635c3b95542d650caa00900d65baf_1584371334.jpg?impolicy=newcropandfit&cropw=780&croph=780&cropoffsetx=0&cropoffsety=62&cropgravity=NorthWest&fitw=200&fith=200&fittype=ignore',\n",
       "    'user': {'name': 'Richa Kolwankar',\n",
       "     'zomato_handle': '',\n",
       "     'foodie_color': 'ffd35d',\n",
       "     'profile_url': 'https://www.zomato.com/users/richa-kolwankar-163564789?utm_source=api_basic_user&utm_medium=api&utm_campaign=v2.1',\n",
       "     'profile_image': 'https://b.zmtcdn.com/data/user_profile_pictures/b11/99cac410de99c59d0b4b18958d48ab11.jpg?fit=around%7C100%3A100&crop=100%3A100%3B%2A%2C%2A',\n",
       "     'profile_deeplink': 'zomato://u/163564789'},\n",
       "    'res_id': 19356617,\n",
       "    'caption': '',\n",
       "    'timestamp': 1584371335,\n",
       "    'friendly_time': 'one month ago',\n",
       "    'width': 780,\n",
       "    'height': 1040}},\n",
       "  {'photo': {'id': 'u_yNDQxNTc4NDc1N',\n",
       "    'url': 'https://b.zmtcdn.com/data/reviews_photos/111/3fb92bdc4fdf5ce530d3315bfcc56111_1584371333.jpg',\n",
       "    'thumb_url': 'https://b.zmtcdn.com/data/reviews_photos/111/3fb92bdc4fdf5ce530d3315bfcc56111_1584371333.jpg?impolicy=newcropandfit&cropw=578&croph=578&cropoffsetx=0&cropoffsety=352&cropgravity=NorthWest&fitw=200&fith=200&fittype=ignore',\n",
       "    'user': {'name': 'Richa Kolwankar',\n",
       "     'foodie_color': 'ffd35d',\n",
       "     'profile_url': 'https://www.zomato.com/users/richa-kolwankar-163564789?utm_source=api_basic_user&utm_medium=api&utm_campaign=v2.1',\n",
       "     'profile_image': 'https://b.zmtcdn.com/data/user_profile_pictures/b11/99cac410de99c59d0b4b18958d48ab11.jpg?fit=around%7C100%3A100&crop=100%3A100%3B%2A%2C%2A',\n",
       "     'profile_deeplink': 'zomato://u/163564789'},\n",
       "    'res_id': 19356617,\n",
       "    'caption': '',\n",
       "    'timestamp': 1584371333,\n",
       "    'friendly_time': 'one month ago',\n",
       "    'width': 578,\n",
       "    'height': 1280}},\n",
       "  {'photo': {'id': 'u_ODQ4MTg3MzMxNz',\n",
       "    'url': 'https://b.zmtcdn.com/data/reviews_photos/192/8e73f3db0064db1348b8be2e87d27192_1584371334.jpg',\n",
       "    'thumb_url': 'https://b.zmtcdn.com/data/reviews_photos/192/8e73f3db0064db1348b8be2e87d27192_1584371334.jpg?impolicy=newcropandfit&cropw=578&croph=578&cropoffsetx=0&cropoffsety=368&cropgravity=NorthWest&fitw=200&fith=200&fittype=ignore',\n",
       "    'user': {'name': 'Richa Kolwankar',\n",
       "     'zomato_handle': '',\n",
       "     'foodie_color': 'ffd35d',\n",
       "     'profile_url': 'https://www.zomato.com/users/richa-kolwankar-163564789?utm_source=api_basic_user&utm_medium=api&utm_campaign=v2.1',\n",
       "     'profile_image': 'https://b.zmtcdn.com/data/user_profile_pictures/b11/99cac410de99c59d0b4b18958d48ab11.jpg?fit=around%7C100%3A100&crop=100%3A100%3B%2A%2C%2A',\n",
       "     'profile_deeplink': 'zomato://u/163564789'},\n",
       "    'res_id': 19356617,\n",
       "    'caption': '',\n",
       "    'timestamp': 1584371334,\n",
       "    'friendly_time': 'one month ago',\n",
       "    'width': 578,\n",
       "    'height': 1280}}],\n",
       " 'menu_url': 'https://www.zomato.com/chiplun-city/3-singles-fast-food-cafe-chiplun-locality/menu?utm_source=api_basic_user&utm_medium=api&utm_campaign=v2.1&openSwipeBox=menu&showMinimal=1#tabtop',\n",
       " 'featured_image': 'https://b.zmtcdn.com/data/reviews_photos/baf/c43635c3b95542d650caa00900d65baf_1584371334.jpg',\n",
       " 'has_online_delivery': 1,\n",
       " 'is_delivering_now': 0,\n",
       " 'store_type': '',\n",
       " 'include_bogo_offers': True,\n",
       " 'deeplink': 'zomato://restaurant/19356617',\n",
       " 'is_table_reservation_supported': 0,\n",
       " 'has_table_booking': 0,\n",
       " 'events_url': 'https://www.zomato.com/chiplun-city/3-singles-fast-food-cafe-chiplun-locality/events#tabtop?utm_source=api_basic_user&utm_medium=api&utm_campaign=v2.1',\n",
       " 'phone_numbers': '+91 8975853000',\n",
       " 'all_reviews': {'reviews': [{'review': []}, {'review': []}, {'review': []}]},\n",
       " 'establishment': ['Quick Bites'],\n",
       " 'establishment_types': []}"
      ]
     },
     "execution_count": 338,
     "metadata": {},
     "output_type": "execute_result"
    }
   ],
   "source": [
    "val = data['restaurants'][0]['restaurant']\n",
    "val"
   ]
  },
  {
   "cell_type": "code",
   "execution_count": 339,
   "metadata": {},
   "outputs": [
    {
     "data": {
      "text/plain": [
       "dict"
      ]
     },
     "execution_count": 339,
     "metadata": {},
     "output_type": "execute_result"
    }
   ],
   "source": [
    "type(val)"
   ]
  },
  {
   "cell_type": "code",
   "execution_count": 340,
   "metadata": {},
   "outputs": [
    {
     "data": {
      "text/plain": [
       "dict_keys(['R', 'apikey', 'id', 'name', 'url', 'location', 'switch_to_order_menu', 'cuisines', 'timings', 'average_cost_for_two', 'price_range', 'currency', 'highlights', 'offers', 'opentable_support', 'is_zomato_book_res', 'mezzo_provider', 'is_book_form_web_view', 'book_form_web_view_url', 'book_again_url', 'thumb', 'user_rating', 'all_reviews_count', 'photos_url', 'photo_count', 'photos', 'menu_url', 'featured_image', 'has_online_delivery', 'is_delivering_now', 'store_type', 'include_bogo_offers', 'deeplink', 'is_table_reservation_supported', 'has_table_booking', 'events_url', 'phone_numbers', 'all_reviews', 'establishment', 'establishment_types'])"
      ]
     },
     "execution_count": 340,
     "metadata": {},
     "output_type": "execute_result"
    }
   ],
   "source": [
    "val.keys()"
   ]
  },
  {
   "cell_type": "code",
   "execution_count": 341,
   "metadata": {},
   "outputs": [],
   "source": [
    "columns = [ 'id', 'name', 'location', 'switch_to_order_menu', 'cuisines', 'timings', 'average_cost_for_two', 'price_range', \n",
    "           'currency', 'highlights', 'offers', 'user_rating', 'has_online_delivery', \n",
    "           'is_delivering_now', 'is_table_reservation_supported','has_table_booking', 'establishment']"
   ]
  },
  {
   "cell_type": "code",
   "execution_count": 342,
   "metadata": {},
   "outputs": [],
   "source": [
    "filtered_dic = {key: value for key, value in val.items() if key in columns}"
   ]
  },
  {
   "cell_type": "code",
   "execution_count": 343,
   "metadata": {},
   "outputs": [
    {
     "data": {
      "text/plain": [
       "{'id': '19356617',\n",
       " 'name': '3 Singles Fast Food Cafe',\n",
       " 'location': {'address': 'Shop 3, Vastu Siddhi Apartment Ozarwadi, Chiplun Locality, Chiplun City',\n",
       "  'locality': 'Chiplun Locality',\n",
       "  'city': 'Chiplun City',\n",
       "  'city_id': 11900,\n",
       "  'latitude': '17.5246686000',\n",
       "  'longitude': '73.5244691000',\n",
       "  'zipcode': '',\n",
       "  'country_id': 1,\n",
       "  'locality_verbose': 'Chiplun Locality, Chiplun City'},\n",
       " 'switch_to_order_menu': 0,\n",
       " 'cuisines': 'Fast Food',\n",
       " 'timings': '11 AM to 11 PM',\n",
       " 'average_cost_for_two': 200,\n",
       " 'price_range': 1,\n",
       " 'currency': 'Rs.',\n",
       " 'highlights': ['Dinner',\n",
       "  'Cash',\n",
       "  'Takeaway Available',\n",
       "  'Lunch',\n",
       "  'Delivery',\n",
       "  'Indoor Seating',\n",
       "  'Digital Payments Accepted'],\n",
       " 'offers': [],\n",
       " 'user_rating': {'aggregate_rating': 0,\n",
       "  'rating_text': 'Not rated',\n",
       "  'rating_color': 'CBCBCB',\n",
       "  'rating_obj': {'title': {'text': 'NEW'},\n",
       "   'bg_color': {'type': 'grey', 'tint': '400'}},\n",
       "  'votes': 0,\n",
       "  'custom_rating_text': 'NEW',\n",
       "  'custom_rating_text_background': '#89959B',\n",
       "  'rating_tool_tip': 'This restaurant is newly opened. The rating will appear once the restaurant completes 60 days in operation.'},\n",
       " 'has_online_delivery': 1,\n",
       " 'is_delivering_now': 0,\n",
       " 'is_table_reservation_supported': 0,\n",
       " 'has_table_booking': 0,\n",
       " 'establishment': ['Quick Bites']}"
      ]
     },
     "execution_count": 343,
     "metadata": {},
     "output_type": "execute_result"
    }
   ],
   "source": [
    "filtered_dic"
   ]
  },
  {
   "cell_type": "code",
   "execution_count": 344,
   "metadata": {},
   "outputs": [
    {
     "data": {
      "text/plain": [
       "{'address': 'Shop 3, Vastu Siddhi Apartment Ozarwadi, Chiplun Locality, Chiplun City',\n",
       " 'locality': 'Chiplun Locality',\n",
       " 'city': 'Chiplun City',\n",
       " 'city_id': 11900,\n",
       " 'latitude': '17.5246686000',\n",
       " 'longitude': '73.5244691000',\n",
       " 'zipcode': '',\n",
       " 'country_id': 1,\n",
       " 'locality_verbose': 'Chiplun Locality, Chiplun City'}"
      ]
     },
     "execution_count": 344,
     "metadata": {},
     "output_type": "execute_result"
    }
   ],
   "source": [
    "location = filtered_dic['location']\n",
    "location"
   ]
  },
  {
   "cell_type": "code",
   "execution_count": 345,
   "metadata": {},
   "outputs": [],
   "source": [
    "del filtered_dic['location']"
   ]
  },
  {
   "cell_type": "code",
   "execution_count": 346,
   "metadata": {},
   "outputs": [
    {
     "data": {
      "text/plain": [
       "dict_keys(['address', 'locality', 'city', 'city_id', 'latitude', 'longitude', 'zipcode', 'country_id', 'locality_verbose'])"
      ]
     },
     "execution_count": 346,
     "metadata": {},
     "output_type": "execute_result"
    }
   ],
   "source": [
    "loc_key = location.keys()\n",
    "loc_key"
   ]
  },
  {
   "cell_type": "code",
   "execution_count": 347,
   "metadata": {},
   "outputs": [],
   "source": [
    "for i in loc_key:\n",
    "    filtered_dic[i] = location.get(i)"
   ]
  },
  {
   "cell_type": "code",
   "execution_count": 348,
   "metadata": {},
   "outputs": [
    {
     "data": {
      "text/plain": [
       "{'id': '19356617',\n",
       " 'name': '3 Singles Fast Food Cafe',\n",
       " 'switch_to_order_menu': 0,\n",
       " 'cuisines': 'Fast Food',\n",
       " 'timings': '11 AM to 11 PM',\n",
       " 'average_cost_for_two': 200,\n",
       " 'price_range': 1,\n",
       " 'currency': 'Rs.',\n",
       " 'highlights': ['Dinner',\n",
       "  'Cash',\n",
       "  'Takeaway Available',\n",
       "  'Lunch',\n",
       "  'Delivery',\n",
       "  'Indoor Seating',\n",
       "  'Digital Payments Accepted'],\n",
       " 'offers': [],\n",
       " 'user_rating': {'aggregate_rating': 0,\n",
       "  'rating_text': 'Not rated',\n",
       "  'rating_color': 'CBCBCB',\n",
       "  'rating_obj': {'title': {'text': 'NEW'},\n",
       "   'bg_color': {'type': 'grey', 'tint': '400'}},\n",
       "  'votes': 0,\n",
       "  'custom_rating_text': 'NEW',\n",
       "  'custom_rating_text_background': '#89959B',\n",
       "  'rating_tool_tip': 'This restaurant is newly opened. The rating will appear once the restaurant completes 60 days in operation.'},\n",
       " 'has_online_delivery': 1,\n",
       " 'is_delivering_now': 0,\n",
       " 'is_table_reservation_supported': 0,\n",
       " 'has_table_booking': 0,\n",
       " 'establishment': ['Quick Bites'],\n",
       " 'address': 'Shop 3, Vastu Siddhi Apartment Ozarwadi, Chiplun Locality, Chiplun City',\n",
       " 'locality': 'Chiplun Locality',\n",
       " 'city': 'Chiplun City',\n",
       " 'city_id': 11900,\n",
       " 'latitude': '17.5246686000',\n",
       " 'longitude': '73.5244691000',\n",
       " 'zipcode': '',\n",
       " 'country_id': 1,\n",
       " 'locality_verbose': 'Chiplun Locality, Chiplun City'}"
      ]
     },
     "execution_count": 348,
     "metadata": {},
     "output_type": "execute_result"
    }
   ],
   "source": [
    "filtered_dic"
   ]
  },
  {
   "cell_type": "code",
   "execution_count": 349,
   "metadata": {},
   "outputs": [
    {
     "data": {
      "text/plain": [
       "{'id': '19356617',\n",
       " 'name': '3 Singles Fast Food Cafe',\n",
       " 'switch_to_order_menu': 0,\n",
       " 'cuisines': 'Fast Food',\n",
       " 'timings': '11 AM to 11 PM',\n",
       " 'average_cost_for_two': 200,\n",
       " 'price_range': 1,\n",
       " 'currency': 'Rs.',\n",
       " 'highlights': ['Dinner',\n",
       "  'Cash',\n",
       "  'Takeaway Available',\n",
       "  'Lunch',\n",
       "  'Delivery',\n",
       "  'Indoor Seating',\n",
       "  'Digital Payments Accepted'],\n",
       " 'offers': [],\n",
       " 'user_rating': 0,\n",
       " 'has_online_delivery': 1,\n",
       " 'is_delivering_now': 0,\n",
       " 'is_table_reservation_supported': 0,\n",
       " 'has_table_booking': 0,\n",
       " 'establishment': ['Quick Bites'],\n",
       " 'address': 'Shop 3, Vastu Siddhi Apartment Ozarwadi, Chiplun Locality, Chiplun City',\n",
       " 'locality': 'Chiplun Locality',\n",
       " 'city': 'Chiplun City',\n",
       " 'city_id': 11900,\n",
       " 'latitude': '17.5246686000',\n",
       " 'longitude': '73.5244691000',\n",
       " 'zipcode': '',\n",
       " 'country_id': 1,\n",
       " 'locality_verbose': 'Chiplun Locality, Chiplun City'}"
      ]
     },
     "execution_count": 349,
     "metadata": {},
     "output_type": "execute_result"
    }
   ],
   "source": [
    "filtered_dic['user_rating'] = filtered_dic['user_rating']['aggregate_rating']\n",
    "filtered_dic"
   ]
  },
  {
   "cell_type": "code",
   "execution_count": 350,
   "metadata": {},
   "outputs": [
    {
     "data": {
      "text/plain": [
       "'Dinner,Cash,Takeaway Available,Lunch,Delivery,Indoor Seating,Digital Payments Accepted'"
      ]
     },
     "execution_count": 350,
     "metadata": {},
     "output_type": "execute_result"
    }
   ],
   "source": [
    "filtered_dic['highlights'] = ','.join(filtered_dic['highlights'])\n",
    "filtered_dic['highlights']"
   ]
  },
  {
   "cell_type": "code",
   "execution_count": 351,
   "metadata": {},
   "outputs": [
    {
     "data": {
      "text/plain": [
       "'Quick Bites'"
      ]
     },
     "execution_count": 351,
     "metadata": {},
     "output_type": "execute_result"
    }
   ],
   "source": [
    "filtered_dic['establishment'] = ','.join(filtered_dic['establishment'])\n",
    "filtered_dic['establishment']"
   ]
  },
  {
   "cell_type": "code",
   "execution_count": 352,
   "metadata": {},
   "outputs": [
    {
     "data": {
      "text/plain": [
       "''"
      ]
     },
     "execution_count": 352,
     "metadata": {},
     "output_type": "execute_result"
    }
   ],
   "source": [
    "filtered_dic['offers'] = ','.join(filtered_dic['offers'])\n",
    "filtered_dic['offers']"
   ]
  },
  {
   "cell_type": "code",
   "execution_count": 353,
   "metadata": {},
   "outputs": [
    {
     "data": {
      "text/plain": [
       "dict_values(['19356617', '3 Singles Fast Food Cafe', 0, 'Fast Food', '11 AM to 11 PM', 200, 1, 'Rs.', 'Dinner,Cash,Takeaway Available,Lunch,Delivery,Indoor Seating,Digital Payments Accepted', '', 0, 1, 0, 0, 0, 'Quick Bites', 'Shop 3, Vastu Siddhi Apartment Ozarwadi, Chiplun Locality, Chiplun City', 'Chiplun Locality', 'Chiplun City', 11900, '17.5246686000', '73.5244691000', '', 1, 'Chiplun Locality, Chiplun City'])"
      ]
     },
     "execution_count": 353,
     "metadata": {},
     "output_type": "execute_result"
    }
   ],
   "source": [
    "filtered_dic.values()"
   ]
  },
  {
   "cell_type": "code",
   "execution_count": 354,
   "metadata": {},
   "outputs": [
    {
     "data": {
      "text/plain": [
       "dict_keys(['id', 'name', 'switch_to_order_menu', 'cuisines', 'timings', 'average_cost_for_two', 'price_range', 'currency', 'highlights', 'offers', 'user_rating', 'has_online_delivery', 'is_delivering_now', 'is_table_reservation_supported', 'has_table_booking', 'establishment', 'address', 'locality', 'city', 'city_id', 'latitude', 'longitude', 'zipcode', 'country_id', 'locality_verbose'])"
      ]
     },
     "execution_count": 354,
     "metadata": {},
     "output_type": "execute_result"
    }
   ],
   "source": [
    "filtered_dic.keys()"
   ]
  },
  {
   "cell_type": "code",
   "execution_count": 360,
   "metadata": {
    "scrolled": false
   },
   "outputs": [
    {
     "data": {
      "text/html": [
       "<div>\n",
       "<style scoped>\n",
       "    .dataframe tbody tr th:only-of-type {\n",
       "        vertical-align: middle;\n",
       "    }\n",
       "\n",
       "    .dataframe tbody tr th {\n",
       "        vertical-align: top;\n",
       "    }\n",
       "\n",
       "    .dataframe thead th {\n",
       "        text-align: right;\n",
       "    }\n",
       "</style>\n",
       "<table border=\"1\" class=\"dataframe\">\n",
       "  <thead>\n",
       "    <tr style=\"text-align: right;\">\n",
       "      <th></th>\n",
       "      <th>id</th>\n",
       "      <th>name</th>\n",
       "      <th>switch_to_order_menu</th>\n",
       "      <th>cuisines</th>\n",
       "      <th>timings</th>\n",
       "      <th>average_cost_for_two</th>\n",
       "      <th>price_range</th>\n",
       "      <th>currency</th>\n",
       "      <th>highlights</th>\n",
       "      <th>offers</th>\n",
       "      <th>user_rating</th>\n",
       "      <th>has_online_delivery</th>\n",
       "      <th>is_delivering_now</th>\n",
       "      <th>is_table_reservation_supported</th>\n",
       "      <th>has_table_booking</th>\n",
       "      <th>establishment</th>\n",
       "      <th>address</th>\n",
       "      <th>locality</th>\n",
       "      <th>city</th>\n",
       "      <th>city_id</th>\n",
       "      <th>latitude</th>\n",
       "      <th>longitude</th>\n",
       "      <th>zipcode</th>\n",
       "      <th>country_id</th>\n",
       "      <th>locality_verbose</th>\n",
       "    </tr>\n",
       "  </thead>\n",
       "  <tbody>\n",
       "    <tr>\n",
       "      <td>0</td>\n",
       "      <td>19356617</td>\n",
       "      <td>3 Singles Fast Food Cafe</td>\n",
       "      <td>0</td>\n",
       "      <td>Fast Food</td>\n",
       "      <td>11 AM to 11 PM</td>\n",
       "      <td>200</td>\n",
       "      <td>1</td>\n",
       "      <td>Rs.</td>\n",
       "      <td>Dinner,Cash,Takeaway Available,Lunch,Delivery,...</td>\n",
       "      <td></td>\n",
       "      <td>0</td>\n",
       "      <td>1</td>\n",
       "      <td>0</td>\n",
       "      <td>0</td>\n",
       "      <td>0</td>\n",
       "      <td>Quick Bites</td>\n",
       "      <td>Shop 3, Vastu Siddhi Apartment Ozarwadi, Chipl...</td>\n",
       "      <td>Chiplun Locality</td>\n",
       "      <td>Chiplun City</td>\n",
       "      <td>11900</td>\n",
       "      <td>17.5246686000</td>\n",
       "      <td>73.5244691000</td>\n",
       "      <td></td>\n",
       "      <td>1</td>\n",
       "      <td>Chiplun Locality, Chiplun City</td>\n",
       "    </tr>\n",
       "  </tbody>\n",
       "</table>\n",
       "</div>"
      ],
      "text/plain": [
       "         id                      name  switch_to_order_menu   cuisines  \\\n",
       "0  19356617  3 Singles Fast Food Cafe                     0  Fast Food   \n",
       "\n",
       "          timings  average_cost_for_two  price_range currency  \\\n",
       "0  11 AM to 11 PM                   200            1      Rs.   \n",
       "\n",
       "                                          highlights offers  user_rating  \\\n",
       "0  Dinner,Cash,Takeaway Available,Lunch,Delivery,...                   0   \n",
       "\n",
       "   has_online_delivery  is_delivering_now  is_table_reservation_supported  \\\n",
       "0                    1                  0                               0   \n",
       "\n",
       "   has_table_booking establishment  \\\n",
       "0                  0   Quick Bites   \n",
       "\n",
       "                                             address          locality  \\\n",
       "0  Shop 3, Vastu Siddhi Apartment Ozarwadi, Chipl...  Chiplun Locality   \n",
       "\n",
       "           city  city_id       latitude      longitude zipcode  country_id  \\\n",
       "0  Chiplun City    11900  17.5246686000  73.5244691000                   1   \n",
       "\n",
       "                 locality_verbose  \n",
       "0  Chiplun Locality, Chiplun City  "
      ]
     },
     "execution_count": 360,
     "metadata": {},
     "output_type": "execute_result"
    }
   ],
   "source": [
    "d_f = pd.DataFrame(filtered_dic, index=[0])\n",
    "d_f"
   ]
  },
  {
   "cell_type": "code",
   "execution_count": null,
   "metadata": {},
   "outputs": [],
   "source": []
  },
  {
   "cell_type": "markdown",
   "metadata": {},
   "source": [
    "## Cleanig all the data and converting into dataframe"
   ]
  },
  {
   "cell_type": "code",
   "execution_count": 287,
   "metadata": {},
   "outputs": [],
   "source": [
    "columns = [ 'id', 'name', 'location', 'switch_to_order_menu', 'cuisines', 'timings', 'average_cost_for_two', 'price_range', \n",
    "           'currency', 'highlights', 'offers', 'user_rating', 'has_online_delivery', 'is_delivering_now', \n",
    "           'is_table_reservation_supported','has_table_booking', 'establishment']\n",
    "\n",
    "loc_key = ['address', 'locality', 'city', 'city_id', 'latitude', 'longitude', 'zipcode', 'country_id', 'locality_verbose']\n",
    "\n",
    "\n",
    "def make_dataframe():\n",
    "    row = []\n",
    "    for number in range(1,80,20):\n",
    "        link = \"https://developers.zomato.com/api/v2.1/search?start=\" + str(number)\n",
    "        response = requests.get(link,headers=header,params=parameters)\n",
    "        data = response.json()\n",
    "\n",
    "        for count in range(0,len(data['restaurants'])):\n",
    "            val = data['restaurants'][count]['restaurant']\n",
    "            filtered_dic = {key: value for key, value in val.items() if key in columns}\n",
    "            location = filtered_dic['location']\n",
    "            del filtered_dic['location']\n",
    "            for i in loc_key:\n",
    "                filtered_dic[i] = location.get(i)\n",
    "            filtered_dic['user_rating'] = filtered_dic['user_rating']['aggregate_rating']\n",
    "            filtered_dic['highlights'] = ','.join(filtered_dic['highlights'])\n",
    "            filtered_dic['establishment'] = ','.join(filtered_dic['establishment'])\n",
    "            filtered_dic['offers'] = ','.join(filtered_dic['offers'])\n",
    "            row.append(filtered_dic.values())\n",
    "\n",
    "    return row\n"
   ]
  },
  {
   "cell_type": "code",
   "execution_count": 288,
   "metadata": {},
   "outputs": [],
   "source": [
    "dataset = make_dataframe()"
   ]
  },
  {
   "cell_type": "code",
   "execution_count": 309,
   "metadata": {},
   "outputs": [],
   "source": [
    "col = ['id', 'name', 'order_menu', 'cuisines', 'timings', 'cost_for_two', 'price_range', 'currency', \n",
    "       'highlights', 'offers', 'user_rating', 'online_delivery', 'delivering', 'reservation_supported', \n",
    "       'has_table_booking', 'establishment', 'address', 'locality', 'city', 'city_id', 'latitude', 'longitude', 'zipcode', \n",
    "       'country_id', 'locality_verbose']\n",
    "\n",
    "df = pd.DataFrame(dataset, columns = col)"
   ]
  },
  {
   "cell_type": "code",
   "execution_count": 310,
   "metadata": {},
   "outputs": [],
   "source": [
    "pd.set_option('display.max_columns', None)\n",
    "df = df.replace('', np.nan, regex=True)"
   ]
  },
  {
   "cell_type": "code",
   "execution_count": 311,
   "metadata": {},
   "outputs": [
    {
     "data": {
      "text/html": [
       "<div>\n",
       "<style scoped>\n",
       "    .dataframe tbody tr th:only-of-type {\n",
       "        vertical-align: middle;\n",
       "    }\n",
       "\n",
       "    .dataframe tbody tr th {\n",
       "        vertical-align: top;\n",
       "    }\n",
       "\n",
       "    .dataframe thead th {\n",
       "        text-align: right;\n",
       "    }\n",
       "</style>\n",
       "<table border=\"1\" class=\"dataframe\">\n",
       "  <thead>\n",
       "    <tr style=\"text-align: right;\">\n",
       "      <th></th>\n",
       "      <th>id</th>\n",
       "      <th>name</th>\n",
       "      <th>order_menu</th>\n",
       "      <th>cuisines</th>\n",
       "      <th>timings</th>\n",
       "      <th>cost_for_two</th>\n",
       "      <th>price_range</th>\n",
       "      <th>currency</th>\n",
       "      <th>highlights</th>\n",
       "      <th>offers</th>\n",
       "      <th>user_rating</th>\n",
       "      <th>online_delivery</th>\n",
       "      <th>delivering</th>\n",
       "      <th>reservation_supported</th>\n",
       "      <th>has_table_booking</th>\n",
       "      <th>establishment</th>\n",
       "      <th>address</th>\n",
       "      <th>locality</th>\n",
       "      <th>city</th>\n",
       "      <th>city_id</th>\n",
       "      <th>latitude</th>\n",
       "      <th>longitude</th>\n",
       "      <th>zipcode</th>\n",
       "      <th>country_id</th>\n",
       "      <th>locality_verbose</th>\n",
       "    </tr>\n",
       "  </thead>\n",
       "  <tbody>\n",
       "    <tr>\n",
       "      <td>0</td>\n",
       "      <td>19196130</td>\n",
       "      <td>Burger Lounge - Beach</td>\n",
       "      <td>0</td>\n",
       "      <td>Sandwich, Burger</td>\n",
       "      <td>NaN</td>\n",
       "      <td>300</td>\n",
       "      <td>1</td>\n",
       "      <td>Rs.</td>\n",
       "      <td>Takeaway Available,Debit Card,Dinner,Delivery,...</td>\n",
       "      <td>NaN</td>\n",
       "      <td>3.4</td>\n",
       "      <td>1</td>\n",
       "      <td>0</td>\n",
       "      <td>0</td>\n",
       "      <td>0</td>\n",
       "      <td>Casual Dining</td>\n",
       "      <td>8/282 A(a), Silk Street, Beach Old Corporation...</td>\n",
       "      <td>Kuttichira</td>\n",
       "      <td>Kozhikode</td>\n",
       "      <td>11296</td>\n",
       "      <td>11.2537255268</td>\n",
       "      <td>75.7725622505</td>\n",
       "      <td>NaN</td>\n",
       "      <td>1</td>\n",
       "      <td>Kuttichira, Kozhikode</td>\n",
       "    </tr>\n",
       "    <tr>\n",
       "      <td>1</td>\n",
       "      <td>19328145</td>\n",
       "      <td>The Beirut Blends</td>\n",
       "      <td>0</td>\n",
       "      <td>Cafe, Arabian, BBQ, Continental</td>\n",
       "      <td>11am – 11pm (Mon-Sun)</td>\n",
       "      <td>300</td>\n",
       "      <td>1</td>\n",
       "      <td>Rs.</td>\n",
       "      <td>Delivery,Credit Card,Dinner,Takeaway Available...</td>\n",
       "      <td>NaN</td>\n",
       "      <td>3.6</td>\n",
       "      <td>1</td>\n",
       "      <td>0</td>\n",
       "      <td>0</td>\n",
       "      <td>0</td>\n",
       "      <td>Quick Bites</td>\n",
       "      <td>Kunnathuparambil Complex, T.K Road, Thiruvalla...</td>\n",
       "      <td>Thiruvalla Locality</td>\n",
       "      <td>Thiruvalla</td>\n",
       "      <td>11798</td>\n",
       "      <td>9.3850460000</td>\n",
       "      <td>76.5769600000</td>\n",
       "      <td>NaN</td>\n",
       "      <td>1</td>\n",
       "      <td>Thiruvalla Locality, Thiruvalla</td>\n",
       "    </tr>\n",
       "    <tr>\n",
       "      <td>2</td>\n",
       "      <td>19217165</td>\n",
       "      <td>chicking</td>\n",
       "      <td>0</td>\n",
       "      <td>Cafe, Beverages</td>\n",
       "      <td>NaN</td>\n",
       "      <td>400</td>\n",
       "      <td>2</td>\n",
       "      <td>Rs.</td>\n",
       "      <td>Credit Card,Lunch,Takeaway Available,Cash,Dinn...</td>\n",
       "      <td>NaN</td>\n",
       "      <td>0</td>\n",
       "      <td>1</td>\n",
       "      <td>0</td>\n",
       "      <td>0</td>\n",
       "      <td>0</td>\n",
       "      <td>Casual Dining</td>\n",
       "      <td>attingal junction, trivandrum, Attingal Locali...</td>\n",
       "      <td>Attingal Locality</td>\n",
       "      <td>Attingal</td>\n",
       "      <td>11689</td>\n",
       "      <td>8.6907476917</td>\n",
       "      <td>76.8223912641</td>\n",
       "      <td>NaN</td>\n",
       "      <td>1</td>\n",
       "      <td>Attingal Locality, Attingal</td>\n",
       "    </tr>\n",
       "    <tr>\n",
       "      <td>3</td>\n",
       "      <td>19073916</td>\n",
       "      <td>Fig &amp; The Bay</td>\n",
       "      <td>0</td>\n",
       "      <td>Cafe Food, Coffee and Tea</td>\n",
       "      <td>8 AM to 4 PM (Wed-Sun), Mon &amp; Tue Closed</td>\n",
       "      <td>0</td>\n",
       "      <td>1</td>\n",
       "      <td>$</td>\n",
       "      <td>Cash,Credit Card,Debit Card,Lunch,Takeaway Ava...</td>\n",
       "      <td>NaN</td>\n",
       "      <td>3.3</td>\n",
       "      <td>0</td>\n",
       "      <td>0</td>\n",
       "      <td>0</td>\n",
       "      <td>0</td>\n",
       "      <td>Café</td>\n",
       "      <td>24 Liberty Crescent, Corinella, VIC</td>\n",
       "      <td>Corinella</td>\n",
       "      <td>Corinella</td>\n",
       "      <td>1395</td>\n",
       "      <td>-38.4166540000</td>\n",
       "      <td>145.4276240000</td>\n",
       "      <td>NaN</td>\n",
       "      <td>14</td>\n",
       "      <td>Corinella, Corinella</td>\n",
       "    </tr>\n",
       "    <tr>\n",
       "      <td>4</td>\n",
       "      <td>16605193</td>\n",
       "      <td>Captains Creek Winery</td>\n",
       "      <td>0</td>\n",
       "      <td>Pizza, Modern Australian</td>\n",
       "      <td>11 AM to 5 PM (Sat-Sun), Mon, Tue, Wed, Thu &amp; ...</td>\n",
       "      <td>20</td>\n",
       "      <td>2</td>\n",
       "      <td>$</td>\n",
       "      <td>Dinner,Cash,Debit Card,Lunch,Credit Card,Indoo...</td>\n",
       "      <td>NaN</td>\n",
       "      <td>3.9</td>\n",
       "      <td>0</td>\n",
       "      <td>0</td>\n",
       "      <td>0</td>\n",
       "      <td>0</td>\n",
       "      <td>Fast Food</td>\n",
       "      <td>Kangaroo Hills Rd, Blampied, Blampied</td>\n",
       "      <td>Blampied</td>\n",
       "      <td>Blampied</td>\n",
       "      <td>1562</td>\n",
       "      <td>-37.3491480000</td>\n",
       "      <td>144.0258790000</td>\n",
       "      <td>3364</td>\n",
       "      <td>14</td>\n",
       "      <td>Blampied, Blampied</td>\n",
       "    </tr>\n",
       "  </tbody>\n",
       "</table>\n",
       "</div>"
      ],
      "text/plain": [
       "         id                   name  order_menu  \\\n",
       "0  19196130  Burger Lounge - Beach           0   \n",
       "1  19328145      The Beirut Blends           0   \n",
       "2  19217165               chicking           0   \n",
       "3  19073916          Fig & The Bay           0   \n",
       "4  16605193  Captains Creek Winery           0   \n",
       "\n",
       "                          cuisines  \\\n",
       "0                 Sandwich, Burger   \n",
       "1  Cafe, Arabian, BBQ, Continental   \n",
       "2                  Cafe, Beverages   \n",
       "3        Cafe Food, Coffee and Tea   \n",
       "4         Pizza, Modern Australian   \n",
       "\n",
       "                                             timings  cost_for_two  \\\n",
       "0                                                NaN           300   \n",
       "1                              11am – 11pm (Mon-Sun)           300   \n",
       "2                                                NaN           400   \n",
       "3           8 AM to 4 PM (Wed-Sun), Mon & Tue Closed             0   \n",
       "4  11 AM to 5 PM (Sat-Sun), Mon, Tue, Wed, Thu & ...            20   \n",
       "\n",
       "   price_range currency                                         highlights  \\\n",
       "0            1      Rs.  Takeaway Available,Debit Card,Dinner,Delivery,...   \n",
       "1            1      Rs.  Delivery,Credit Card,Dinner,Takeaway Available...   \n",
       "2            2      Rs.  Credit Card,Lunch,Takeaway Available,Cash,Dinn...   \n",
       "3            1        $  Cash,Credit Card,Debit Card,Lunch,Takeaway Ava...   \n",
       "4            2        $  Dinner,Cash,Debit Card,Lunch,Credit Card,Indoo...   \n",
       "\n",
       "   offers user_rating  online_delivery  delivering  reservation_supported  \\\n",
       "0     NaN         3.4                1           0                      0   \n",
       "1     NaN         3.6                1           0                      0   \n",
       "2     NaN           0                1           0                      0   \n",
       "3     NaN         3.3                0           0                      0   \n",
       "4     NaN         3.9                0           0                      0   \n",
       "\n",
       "   has_table_booking  establishment  \\\n",
       "0                  0  Casual Dining   \n",
       "1                  0    Quick Bites   \n",
       "2                  0  Casual Dining   \n",
       "3                  0           Café   \n",
       "4                  0      Fast Food   \n",
       "\n",
       "                                             address             locality  \\\n",
       "0  8/282 A(a), Silk Street, Beach Old Corporation...           Kuttichira   \n",
       "1  Kunnathuparambil Complex, T.K Road, Thiruvalla...  Thiruvalla Locality   \n",
       "2  attingal junction, trivandrum, Attingal Locali...    Attingal Locality   \n",
       "3                24 Liberty Crescent, Corinella, VIC            Corinella   \n",
       "4              Kangaroo Hills Rd, Blampied, Blampied             Blampied   \n",
       "\n",
       "         city  city_id        latitude       longitude zipcode  country_id  \\\n",
       "0   Kozhikode    11296   11.2537255268   75.7725622505     NaN           1   \n",
       "1  Thiruvalla    11798    9.3850460000   76.5769600000     NaN           1   \n",
       "2    Attingal    11689    8.6907476917   76.8223912641     NaN           1   \n",
       "3   Corinella     1395  -38.4166540000  145.4276240000     NaN          14   \n",
       "4    Blampied     1562  -37.3491480000  144.0258790000    3364          14   \n",
       "\n",
       "                  locality_verbose  \n",
       "0            Kuttichira, Kozhikode  \n",
       "1  Thiruvalla Locality, Thiruvalla  \n",
       "2      Attingal Locality, Attingal  \n",
       "3             Corinella, Corinella  \n",
       "4               Blampied, Blampied  "
      ]
     },
     "execution_count": 311,
     "metadata": {},
     "output_type": "execute_result"
    }
   ],
   "source": [
    "df.head()"
   ]
  },
  {
   "cell_type": "code",
   "execution_count": 308,
   "metadata": {},
   "outputs": [
    {
     "data": {
      "text/html": [
       "<div>\n",
       "<style scoped>\n",
       "    .dataframe tbody tr th:only-of-type {\n",
       "        vertical-align: middle;\n",
       "    }\n",
       "\n",
       "    .dataframe tbody tr th {\n",
       "        vertical-align: top;\n",
       "    }\n",
       "\n",
       "    .dataframe thead th {\n",
       "        text-align: right;\n",
       "    }\n",
       "</style>\n",
       "<table border=\"1\" class=\"dataframe\">\n",
       "  <thead>\n",
       "    <tr style=\"text-align: right;\">\n",
       "      <th></th>\n",
       "      <th>id</th>\n",
       "      <th>name</th>\n",
       "      <th>switch_to_order_menu</th>\n",
       "      <th>cuisines</th>\n",
       "      <th>timings</th>\n",
       "      <th>average_cost_for_two</th>\n",
       "      <th>price_range</th>\n",
       "      <th>currency</th>\n",
       "      <th>highlights</th>\n",
       "      <th>offers</th>\n",
       "      <th>user_rating</th>\n",
       "      <th>has_online_delivery</th>\n",
       "      <th>is_delivering_now</th>\n",
       "      <th>is_table_reservation_supported</th>\n",
       "      <th>has_table_booking</th>\n",
       "      <th>establishment</th>\n",
       "      <th>address</th>\n",
       "      <th>locality</th>\n",
       "      <th>city</th>\n",
       "      <th>city_id</th>\n",
       "      <th>latitude</th>\n",
       "      <th>longitude</th>\n",
       "      <th>zipcode</th>\n",
       "      <th>country_id</th>\n",
       "      <th>locality_verbose</th>\n",
       "    </tr>\n",
       "  </thead>\n",
       "  <tbody>\n",
       "    <tr>\n",
       "      <td>0</td>\n",
       "      <td>19196130</td>\n",
       "      <td>Burger Lounge - Beach</td>\n",
       "      <td>0</td>\n",
       "      <td>Sandwich, Burger</td>\n",
       "      <td>NaN</td>\n",
       "      <td>300.0</td>\n",
       "      <td>1</td>\n",
       "      <td>Rs.</td>\n",
       "      <td>Takeaway Available,Debit Card,Dinner,Delivery,...</td>\n",
       "      <td>NaN</td>\n",
       "      <td>3.4</td>\n",
       "      <td>1</td>\n",
       "      <td>0</td>\n",
       "      <td>0</td>\n",
       "      <td>0</td>\n",
       "      <td>Casual Dining</td>\n",
       "      <td>8/282 A(a), Silk Street, Beach Old Corporation...</td>\n",
       "      <td>Kuttichira</td>\n",
       "      <td>Kozhikode</td>\n",
       "      <td>11296</td>\n",
       "      <td>11.2537255268</td>\n",
       "      <td>75.7725622505</td>\n",
       "      <td>NaN</td>\n",
       "      <td>1</td>\n",
       "      <td>Kuttichira, Kozhikode</td>\n",
       "    </tr>\n",
       "    <tr>\n",
       "      <td>1</td>\n",
       "      <td>19328145</td>\n",
       "      <td>The Beirut Blends</td>\n",
       "      <td>0</td>\n",
       "      <td>Cafe, Arabian, BBQ, Continental</td>\n",
       "      <td>11am – 11pm (Mon-Sun)</td>\n",
       "      <td>300.0</td>\n",
       "      <td>1</td>\n",
       "      <td>Rs.</td>\n",
       "      <td>Delivery,Credit Card,Dinner,Takeaway Available...</td>\n",
       "      <td>NaN</td>\n",
       "      <td>3.6</td>\n",
       "      <td>1</td>\n",
       "      <td>0</td>\n",
       "      <td>0</td>\n",
       "      <td>0</td>\n",
       "      <td>Quick Bites</td>\n",
       "      <td>Kunnathuparambil Complex, T.K Road, Thiruvalla...</td>\n",
       "      <td>Thiruvalla Locality</td>\n",
       "      <td>Thiruvalla</td>\n",
       "      <td>11798</td>\n",
       "      <td>9.3850460000</td>\n",
       "      <td>76.5769600000</td>\n",
       "      <td>NaN</td>\n",
       "      <td>1</td>\n",
       "      <td>Thiruvalla Locality, Thiruvalla</td>\n",
       "    </tr>\n",
       "    <tr>\n",
       "      <td>2</td>\n",
       "      <td>19217165</td>\n",
       "      <td>chicking</td>\n",
       "      <td>0</td>\n",
       "      <td>Cafe, Beverages</td>\n",
       "      <td>NaN</td>\n",
       "      <td>400.0</td>\n",
       "      <td>2</td>\n",
       "      <td>Rs.</td>\n",
       "      <td>Credit Card,Lunch,Takeaway Available,Cash,Dinn...</td>\n",
       "      <td>NaN</td>\n",
       "      <td>0</td>\n",
       "      <td>1</td>\n",
       "      <td>0</td>\n",
       "      <td>0</td>\n",
       "      <td>0</td>\n",
       "      <td>Casual Dining</td>\n",
       "      <td>attingal junction, trivandrum, Attingal Locali...</td>\n",
       "      <td>Attingal Locality</td>\n",
       "      <td>Attingal</td>\n",
       "      <td>11689</td>\n",
       "      <td>8.6907476917</td>\n",
       "      <td>76.8223912641</td>\n",
       "      <td>NaN</td>\n",
       "      <td>1</td>\n",
       "      <td>Attingal Locality, Attingal</td>\n",
       "    </tr>\n",
       "    <tr>\n",
       "      <td>3</td>\n",
       "      <td>19073916</td>\n",
       "      <td>Fig &amp; The Bay</td>\n",
       "      <td>0</td>\n",
       "      <td>Cafe Food, Coffee and Tea</td>\n",
       "      <td>8 AM to 4 PM (Wed-Sun), Mon &amp; Tue Closed</td>\n",
       "      <td>NaN</td>\n",
       "      <td>1</td>\n",
       "      <td>$</td>\n",
       "      <td>Cash,Credit Card,Debit Card,Lunch,Takeaway Ava...</td>\n",
       "      <td>NaN</td>\n",
       "      <td>3.3</td>\n",
       "      <td>0</td>\n",
       "      <td>0</td>\n",
       "      <td>0</td>\n",
       "      <td>0</td>\n",
       "      <td>Café</td>\n",
       "      <td>24 Liberty Crescent, Corinella, VIC</td>\n",
       "      <td>Corinella</td>\n",
       "      <td>Corinella</td>\n",
       "      <td>1395</td>\n",
       "      <td>-38.4166540000</td>\n",
       "      <td>145.4276240000</td>\n",
       "      <td>NaN</td>\n",
       "      <td>14</td>\n",
       "      <td>Corinella, Corinella</td>\n",
       "    </tr>\n",
       "    <tr>\n",
       "      <td>4</td>\n",
       "      <td>16605193</td>\n",
       "      <td>Captains Creek Winery</td>\n",
       "      <td>0</td>\n",
       "      <td>Pizza, Modern Australian</td>\n",
       "      <td>11 AM to 5 PM (Sat-Sun), Mon, Tue, Wed, Thu &amp; ...</td>\n",
       "      <td>20.0</td>\n",
       "      <td>2</td>\n",
       "      <td>$</td>\n",
       "      <td>Dinner,Cash,Debit Card,Lunch,Credit Card,Indoo...</td>\n",
       "      <td>NaN</td>\n",
       "      <td>3.9</td>\n",
       "      <td>0</td>\n",
       "      <td>0</td>\n",
       "      <td>0</td>\n",
       "      <td>0</td>\n",
       "      <td>Fast Food</td>\n",
       "      <td>Kangaroo Hills Rd, Blampied, Blampied</td>\n",
       "      <td>Blampied</td>\n",
       "      <td>Blampied</td>\n",
       "      <td>1562</td>\n",
       "      <td>-37.3491480000</td>\n",
       "      <td>144.0258790000</td>\n",
       "      <td>3364</td>\n",
       "      <td>14</td>\n",
       "      <td>Blampied, Blampied</td>\n",
       "    </tr>\n",
       "  </tbody>\n",
       "</table>\n",
       "</div>"
      ],
      "text/plain": [
       "         id                   name  switch_to_order_menu  \\\n",
       "0  19196130  Burger Lounge - Beach                     0   \n",
       "1  19328145      The Beirut Blends                     0   \n",
       "2  19217165               chicking                     0   \n",
       "3  19073916          Fig & The Bay                     0   \n",
       "4  16605193  Captains Creek Winery                     0   \n",
       "\n",
       "                          cuisines  \\\n",
       "0                 Sandwich, Burger   \n",
       "1  Cafe, Arabian, BBQ, Continental   \n",
       "2                  Cafe, Beverages   \n",
       "3        Cafe Food, Coffee and Tea   \n",
       "4         Pizza, Modern Australian   \n",
       "\n",
       "                                             timings  average_cost_for_two  \\\n",
       "0                                                NaN                 300.0   \n",
       "1                              11am – 11pm (Mon-Sun)                 300.0   \n",
       "2                                                NaN                 400.0   \n",
       "3           8 AM to 4 PM (Wed-Sun), Mon & Tue Closed                   NaN   \n",
       "4  11 AM to 5 PM (Sat-Sun), Mon, Tue, Wed, Thu & ...                  20.0   \n",
       "\n",
       "   price_range currency                                         highlights  \\\n",
       "0            1      Rs.  Takeaway Available,Debit Card,Dinner,Delivery,...   \n",
       "1            1      Rs.  Delivery,Credit Card,Dinner,Takeaway Available...   \n",
       "2            2      Rs.  Credit Card,Lunch,Takeaway Available,Cash,Dinn...   \n",
       "3            1        $  Cash,Credit Card,Debit Card,Lunch,Takeaway Ava...   \n",
       "4            2        $  Dinner,Cash,Debit Card,Lunch,Credit Card,Indoo...   \n",
       "\n",
       "   offers user_rating  has_online_delivery  is_delivering_now  \\\n",
       "0     NaN         3.4                    1                  0   \n",
       "1     NaN         3.6                    1                  0   \n",
       "2     NaN           0                    1                  0   \n",
       "3     NaN         3.3                    0                  0   \n",
       "4     NaN         3.9                    0                  0   \n",
       "\n",
       "   is_table_reservation_supported  has_table_booking  establishment  \\\n",
       "0                               0                  0  Casual Dining   \n",
       "1                               0                  0    Quick Bites   \n",
       "2                               0                  0  Casual Dining   \n",
       "3                               0                  0           Café   \n",
       "4                               0                  0      Fast Food   \n",
       "\n",
       "                                             address             locality  \\\n",
       "0  8/282 A(a), Silk Street, Beach Old Corporation...           Kuttichira   \n",
       "1  Kunnathuparambil Complex, T.K Road, Thiruvalla...  Thiruvalla Locality   \n",
       "2  attingal junction, trivandrum, Attingal Locali...    Attingal Locality   \n",
       "3                24 Liberty Crescent, Corinella, VIC            Corinella   \n",
       "4              Kangaroo Hills Rd, Blampied, Blampied             Blampied   \n",
       "\n",
       "         city  city_id        latitude       longitude zipcode  country_id  \\\n",
       "0   Kozhikode    11296   11.2537255268   75.7725622505     NaN           1   \n",
       "1  Thiruvalla    11798    9.3850460000   76.5769600000     NaN           1   \n",
       "2    Attingal    11689    8.6907476917   76.8223912641     NaN           1   \n",
       "3   Corinella     1395  -38.4166540000  145.4276240000     NaN          14   \n",
       "4    Blampied     1562  -37.3491480000  144.0258790000    3364          14   \n",
       "\n",
       "                  locality_verbose  \n",
       "0            Kuttichira, Kozhikode  \n",
       "1  Thiruvalla Locality, Thiruvalla  \n",
       "2      Attingal Locality, Attingal  \n",
       "3             Corinella, Corinella  \n",
       "4               Blampied, Blampied  "
      ]
     },
     "execution_count": 308,
     "metadata": {},
     "output_type": "execute_result"
    }
   ],
   "source": [
    "df['average_cost_for_two'] = df['average_cost_for_two'].replace(0, np.nan)\n",
    "df.head()"
   ]
  },
  {
   "cell_type": "code",
   "execution_count": 334,
   "metadata": {},
   "outputs": [],
   "source": [
    "df.to_csv('zomato-data')"
   ]
  },
  {
   "cell_type": "code",
   "execution_count": null,
   "metadata": {},
   "outputs": [],
   "source": []
  }
 ],
 "metadata": {
  "kernelspec": {
   "display_name": "Python 3",
   "language": "python",
   "name": "python3"
  },
  "language_info": {
   "codemirror_mode": {
    "name": "ipython",
    "version": 3
   },
   "file_extension": ".py",
   "mimetype": "text/x-python",
   "name": "python",
   "nbconvert_exporter": "python",
   "pygments_lexer": "ipython3",
   "version": "3.7.4"
  }
 },
 "nbformat": 4,
 "nbformat_minor": 2
}
